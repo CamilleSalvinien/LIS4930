{
 "cells": [
  {
   "cell_type": "code",
   "execution_count": 51,
   "metadata": {},
   "outputs": [],
   "source": [
    "# pyttsx3 enables voices\n",
    "import pyttsx3\n",
    "# datetime will be used to return the current time\n",
    "from datetime import datetime"
   ]
  },
  {
   "cell_type": "code",
   "execution_count": 52,
   "metadata": {},
   "outputs": [],
   "source": [
    "# setting up the voice for the speaker\n",
    "def speak(audio):\n",
    "    engine = pyttsx3.init()\n",
    "    voices = engine.getProperty(\"voices\")\n",
    "    engine.setProperty('voice', voices[0].id)\n",
    "    engine.say(audio)\n",
    "    engine.runAndWait()"
   ]
  },
  {
   "cell_type": "code",
   "execution_count": 53,
   "metadata": {},
   "outputs": [],
   "source": [
    "# starting the program\n",
    "def hello():\n",
    "    # Print and Speak to ask for users' name\n",
    "    print(\"Hi, I am your virtual assistant. What is your name?\")\n",
    "    speak(\"Hi, I am your virtual assistant. What is your name?\")\n",
    "    # user name\n",
    "    name = input()\n",
    "    print(\"Nice to meet you, \"+name+\". I am here to make your life easier.\")\n",
    "    speak(\"Nice to meet you, \"+name+\". I am here to make your life easier.\")\n",
    "    # return the name of the user to use for the future\n",
    "    return name"
   ]
  },
  {
   "cell_type": "code",
   "execution_count": 54,
   "metadata": {},
   "outputs": [],
   "source": [
    "# current time function\n",
    "def time():\n",
    "    # take the time from users' computer\n",
    "    time = datetime.now()\n",
    "    # take the hour\n",
    "    currentHour = time.strftime(\"%H\")\n",
    "    # take the minute\n",
    "    currentMinute = time.strftime(\"%M\")\n",
    "    \n",
    "    # set the timeFrame as PM or AM based on the hour\n",
    "    if int(currentHour) > 12:\n",
    "        timeFrame = \"pm\"\n",
    "        currentHour = int(currentHour) - 12\n",
    "    else:\n",
    "        timeFrame = \"am\"\n",
    "    \n",
    "    # Print and Speak current time\n",
    "    print(\"Current time is \" + str(currentHour) + \":\" + currentMinute +\" \"+ timeFrame)\n",
    "    speak(\"Current Time is\" + str(currentHour) + currentMinute + timeFrame)"
   ]
  },
  {
   "cell_type": "code",
   "execution_count": 55,
   "metadata": {},
   "outputs": [],
   "source": [
    "# joke function\n",
    "def tellMeAJoke():\n",
    "    # Print and Speak Joke\n",
    "    print(\"It was suprisingly easy to get a job at the zoo as a computer scientist...\")\n",
    "    speak(\"It was suprisingly easy to get a job at the zoo as a computer scientist...\")\n",
    "    print(\"All because I am fluent in Python!\")\n",
    "    speak(\"All because I am fluent in Python!\")"
   ]
  },
  {
   "cell_type": "code",
   "execution_count": 56,
   "metadata": {},
   "outputs": [],
   "source": [
    "# saying goodbye\n",
    "def goodbye():\n",
    "    \n",
    "    # Print and Speak thank you and asking for the number of stars\n",
    "    print(\"Thank you so much for utilizying the virtual assistant today. How many stars would you rate the virtual assistant today?\")\n",
    "    speak(\"Thank you so much for utilizying the virtual assistant today. How many stars would you rate the virtual assistant today?\")\n",
    "    \n",
    "    # take the amount of stars and returns it\n",
    "    numberOfStars = int(input())\n",
    "    \n",
    "    return numberOfStars"
   ]
  },
  {
   "cell_type": "code",
   "execution_count": 46,
   "metadata": {
    "scrolled": true
   },
   "outputs": [
    {
     "name": "stdout",
     "output_type": "stream",
     "text": [
      "To start, write Hello.\n",
      "Hello\n",
      "Hi, I am your virtual assistant. What is your name?\n",
      "Camille\n",
      "Nice to meet you, Camille. I am here to make your life easier.\n",
      "Would you like to know the current time?\n",
      "Yes\n",
      "Current time is 4:14 pm\n",
      "Would you like to hear a joke?\n",
      "Yes\n",
      "It was suprisingly easy to get a job at the zoo as a computer scientist...\n",
      "All because I am fluent in Python!\n",
      "Thank you so much for utilizying the virtual assistant today. How many stars would you rate the virtual assistant today?\n",
      "5\n",
      "*****\n"
     ]
    }
   ],
   "source": [
    "# Start the program by saying Hello\n",
    "print(\"To start, write Hello.\")\n",
    "speak(\"To start, write Hello.\")\n",
    "userCommand = input()\n",
    "\n",
    "# if user writes out Hello, the program begins\n",
    "if userCommand == \"Hello\":\n",
    "    name = hello()\n",
    "    \n",
    "    # Current Time\n",
    "    print(\"Would you like to know the current time?\")\n",
    "    speak(\"Would you like to know the current time?\")\n",
    "\n",
    "    userCommand = input()\n",
    "    \n",
    "    if userCommand == \"Yes\":\n",
    "        time()\n",
    "        \n",
    "    # Joke\n",
    "    print(\"Would you like to hear a joke?\")\n",
    "    speak(\"Would you like to hear a joke?\")\n",
    "    \n",
    "    userCommand = input()\n",
    "    \n",
    "    if userCommand == \"Yes\":\n",
    "        tellMeAJoke()\n",
    "    \n",
    "    # Saying goodbye and printing out the number of stars given\n",
    "    numberOfStars = goodbye()\n",
    "    print(\"*\"*numberOfStars)\n"
   ]
  }
 ],
 "metadata": {
  "kernelspec": {
   "display_name": "Python 3",
   "language": "python",
   "name": "python3"
  },
  "language_info": {
   "codemirror_mode": {
    "name": "ipython",
    "version": 3
   },
   "file_extension": ".py",
   "mimetype": "text/x-python",
   "name": "python",
   "nbconvert_exporter": "python",
   "pygments_lexer": "ipython3",
   "version": "3.8.5"
  }
 },
 "nbformat": 4,
 "nbformat_minor": 4
}
